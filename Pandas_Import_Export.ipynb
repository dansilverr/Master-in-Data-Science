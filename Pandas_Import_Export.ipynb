{
  "nbformat": 4,
  "nbformat_minor": 0,
  "metadata": {
    "colab": {
      "provenance": [],
      "authorship_tag": "ABX9TyNGqw7nV3nTs5+V+zWVY/2x",
      "include_colab_link": true
    },
    "kernelspec": {
      "name": "python3",
      "display_name": "Python 3"
    },
    "language_info": {
      "name": "python"
    }
  },
  "cells": [
    {
      "cell_type": "markdown",
      "metadata": {
        "id": "view-in-github",
        "colab_type": "text"
      },
      "source": [
        "<a href=\"https://colab.research.google.com/github/dansilverr/Sirius-Exercicios/blob/main/Pandas_Import_Export.ipynb\" target=\"_parent\"><img src=\"https://colab.research.google.com/assets/colab-badge.svg\" alt=\"Open In Colab\"/></a>"
      ]
    },
    {
      "cell_type": "code",
      "execution_count": null,
      "metadata": {
        "id": "OPe-4HVvB7Xm"
      },
      "outputs": [],
      "source": [
        "import pandas as pd"
      ]
    },
    {
      "cell_type": "code",
      "source": [
        "series = pd.read_excel('2023.xlsx')"
      ],
      "metadata": {
        "id": "vG_mdfgnCA20"
      },
      "execution_count": null,
      "outputs": []
    },
    {
      "cell_type": "code",
      "source": [
        "series.shape"
      ],
      "metadata": {
        "colab": {
          "base_uri": "https://localhost:8080/"
        },
        "id": "0Q7eAxXQD5jf",
        "outputId": "13dce331-569b-471e-c557-df4efff0f497"
      },
      "execution_count": null,
      "outputs": [
        {
          "output_type": "execute_result",
          "data": {
            "text/plain": [
              "(5273, 39)"
            ]
          },
          "metadata": {},
          "execution_count": 7
        }
      ]
    },
    {
      "cell_type": "code",
      "source": [
        "series.dtypes"
      ],
      "metadata": {
        "colab": {
          "base_uri": "https://localhost:8080/"
        },
        "id": "s9eFOhdAEI1b",
        "outputId": "8a7c03ee-0c91-4401-861b-1f4b203f6278"
      },
      "execution_count": null,
      "outputs": [
        {
          "output_type": "execute_result",
          "data": {
            "text/plain": [
              "IDInscricao                    int64\n",
              "IDEscola                       int64\n",
              "TipoEscola                     int64\n",
              "CodigoMEC                      int64\n",
              "Nome                          object\n",
              "CNPJ                           int64\n",
              "InscricaoEstadual             object\n",
              "Endereco                      object\n",
              "Numero                        object\n",
              "Complemento                   object\n",
              "Bairro                        object\n",
              "Cidade                        object\n",
              "UF                           float64\n",
              "CEP                            int64\n",
              "Telefone                     float64\n",
              "Email                         object\n",
              "Site                          object\n",
              "DataCriacao                   object\n",
              "NomeResponsavelFinanceiro     object\n",
              "DataNascimento                object\n",
              "CPFResponsavel                 int64\n",
              "EmailResponsavel              object\n",
              "TelefoneResponsavel           object\n",
              "CelularResponsavel            object\n",
              "EnderecoResponsavel           object\n",
              "NumeroResponsavel             object\n",
              "ComplementoResponsavel        object\n",
              "BairroResponsavel             object\n",
              "CidadeResponsavel             object\n",
              "UFResponsavel                 object\n",
              "CEPResponsavel                 int64\n",
              "NomeResponsavelConcurso       object\n",
              "EmailResponsavelConcurso      object\n",
              "LoginEscola                   object\n",
              "PacoteInscricao                int64\n",
              "StatusInscricao                int64\n",
              "DataCriacaoInscricao            bool\n",
              "Unnamed: 37                   object\n",
              "Unnamed: 38                     bool\n",
              "dtype: object"
            ]
          },
          "metadata": {},
          "execution_count": 8
        }
      ]
    },
    {
      "cell_type": "code",
      "source": [
        "series.info()"
      ],
      "metadata": {
        "colab": {
          "base_uri": "https://localhost:8080/"
        },
        "id": "BtRt8WvdEUN7",
        "outputId": "73a2b6f8-d951-49c8-d439-a00d804c99e4"
      },
      "execution_count": null,
      "outputs": [
        {
          "output_type": "stream",
          "name": "stdout",
          "text": [
            "<class 'pandas.core.frame.DataFrame'>\n",
            "RangeIndex: 5273 entries, 0 to 5272\n",
            "Data columns (total 39 columns):\n",
            " #   Column                     Non-Null Count  Dtype  \n",
            "---  ------                     --------------  -----  \n",
            " 0   IDInscricao                5273 non-null   int64  \n",
            " 1   IDEscola                   5273 non-null   int64  \n",
            " 2   TipoEscola                 5273 non-null   int64  \n",
            " 3   CodigoMEC                  5273 non-null   int64  \n",
            " 4   Nome                       5273 non-null   object \n",
            " 5   CNPJ                       5273 non-null   int64  \n",
            " 6   InscricaoEstadual          872 non-null    object \n",
            " 7   Endereco                   5272 non-null   object \n",
            " 8   Numero                     5267 non-null   object \n",
            " 9   Complemento                1398 non-null   object \n",
            " 10  Bairro                     5271 non-null   object \n",
            " 11  Cidade                     5273 non-null   object \n",
            " 12  UF                         0 non-null      float64\n",
            " 13  CEP                        5273 non-null   int64  \n",
            " 14  Telefone                   5273 non-null   float64\n",
            " 15  Email                      5273 non-null   object \n",
            " 16  Site                       3010 non-null   object \n",
            " 17  DataCriacao                5273 non-null   object \n",
            " 18  NomeResponsavelFinanceiro  5273 non-null   object \n",
            " 19  DataNascimento             5273 non-null   object \n",
            " 20  CPFResponsavel             5273 non-null   int64  \n",
            " 21  EmailResponsavel           5273 non-null   object \n",
            " 22  TelefoneResponsavel        5273 non-null   object \n",
            " 23  CelularResponsavel         5273 non-null   object \n",
            " 24  EnderecoResponsavel        5273 non-null   object \n",
            " 25  NumeroResponsavel          5268 non-null   object \n",
            " 26  ComplementoResponsavel     1693 non-null   object \n",
            " 27  BairroResponsavel          5272 non-null   object \n",
            " 28  CidadeResponsavel          5273 non-null   object \n",
            " 29  UFResponsavel              5273 non-null   object \n",
            " 30  CEPResponsavel             5273 non-null   int64  \n",
            " 31  NomeResponsavelConcurso    5273 non-null   object \n",
            " 32  EmailResponsavelConcurso   5273 non-null   object \n",
            " 33  LoginEscola                5273 non-null   object \n",
            " 34  PacoteInscricao            5273 non-null   int64  \n",
            " 35  StatusInscricao            5273 non-null   int64  \n",
            " 36  DataCriacaoInscricao       5273 non-null   bool   \n",
            " 37  Unnamed: 37                5273 non-null   object \n",
            " 38  Unnamed: 38                5273 non-null   bool   \n",
            "dtypes: bool(2), float64(2), int64(10), object(25)\n",
            "memory usage: 1.5+ MB\n"
          ]
        }
      ]
    },
    {
      "cell_type": "code",
      "source": [
        "series['CNPJ'].value_counts()"
      ],
      "metadata": {
        "colab": {
          "base_uri": "https://localhost:8080/"
        },
        "id": "bw_Y8ZOHFBOz",
        "outputId": "e9038af8-ba23-4753-adf6-82659b640fa3"
      },
      "execution_count": null,
      "outputs": [
        {
          "output_type": "execute_result",
          "data": {
            "text/plain": [
              "42498733000148    16\n",
              "4312419000130     16\n",
              "30754400000153    10\n",
              "30128782000100     7\n",
              "76416965000121     7\n",
              "                  ..\n",
              "12711579000180     1\n",
              "3773834000209      1\n",
              "12675714000189     1\n",
              "1750803000126      1\n",
              "7782840000100      1\n",
              "Name: CNPJ, Length: 4648, dtype: int64"
            ]
          },
          "metadata": {},
          "execution_count": 10
        }
      ]
    },
    {
      "cell_type": "code",
      "source": [
        "series['TipoEscola'].value_counts()"
      ],
      "metadata": {
        "colab": {
          "base_uri": "https://localhost:8080/"
        },
        "id": "I34hPVOCFP1i",
        "outputId": "965283f5-0dab-48e5-9e54-c6b7dea4caab"
      },
      "execution_count": null,
      "outputs": [
        {
          "output_type": "execute_result",
          "data": {
            "text/plain": [
              "2    3498\n",
              "1    1775\n",
              "Name: TipoEscola, dtype: int64"
            ]
          },
          "metadata": {},
          "execution_count": 11
        }
      ]
    },
    {
      "cell_type": "code",
      "source": [
        "from google.colab import drive"
      ],
      "metadata": {
        "id": "VJ6d9uu_F4Rb"
      },
      "execution_count": null,
      "outputs": []
    },
    {
      "cell_type": "code",
      "source": [
        "drive.mount('/content/drive')"
      ],
      "metadata": {
        "colab": {
          "base_uri": "https://localhost:8080/"
        },
        "id": "uAJffXAaF8cn",
        "outputId": "d83c325d-c51c-4198-d42f-4645d6c04533"
      },
      "execution_count": null,
      "outputs": [
        {
          "output_type": "stream",
          "name": "stdout",
          "text": [
            "Mounted at /content/drive\n"
          ]
        }
      ]
    },
    {
      "cell_type": "code",
      "source": [
        "series = pd.read_excel('/content/drive/MyDrive/ArquivosColab/2023.xlsx')"
      ],
      "metadata": {
        "id": "6uxQx-nhNvFm"
      },
      "execution_count": null,
      "outputs": []
    },
    {
      "cell_type": "code",
      "source": [
        "series = series.assign(BR = '55')"
      ],
      "metadata": {
        "id": "3UHvGNNVPAvO"
      },
      "execution_count": null,
      "outputs": []
    },
    {
      "cell_type": "code",
      "source": [
        "series.head()"
      ],
      "metadata": {
        "colab": {
          "base_uri": "https://localhost:8080/",
          "height": 577
        },
        "id": "5CJf2-gsDtrc",
        "outputId": "9453a92e-3044-4120-b8b8-444ae102c384"
      },
      "execution_count": null,
      "outputs": [
        {
          "output_type": "execute_result",
          "data": {
            "text/plain": [
              "   IDInscricao  IDEscola  TipoEscola  CodigoMEC  \\\n",
              "0        14833         4           2   23245980   \n",
              "1        15411         6           2   23564130   \n",
              "2        17568         7           1   33062706   \n",
              "3        14297         8           2   23025255   \n",
              "4        15363        11           2   35108339   \n",
              "\n",
              "                                                Nome            CNPJ  \\\n",
              "0                           Colégio Antares - Papicu   7250616000240   \n",
              "1  Alegria Do Saber Centro De Educacao Infantil E...  13207350000175   \n",
              "2                     Colégio Pedro Ii Campus Centro  42414284000706   \n",
              "3                             Colégio Luciano Feijão   9533217000212   \n",
              "4                               Colégio Santa Mônica  52566411000142   \n",
              "\n",
              "  InscricaoEstadual                   Endereco Numero Complemento  ...  \\\n",
              "0               NaN   Rua Prof. Ocelo Pinheiro    101         NaN  ...   \n",
              "1               NaN          Rua 7 de Setembro    425         000  ...   \n",
              "2               NaN  Avenida Marechal Floriano     80         NaN  ...   \n",
              "3               NaN           AVENIDA DOM JOSÉ    325         NaN  ...   \n",
              "4               NaN               Rua São João    141         NaN  ...   \n",
              "\n",
              "  CEPResponsavel         NomeResponsavelConcurso  \\\n",
              "0       60181235  Carlos Eurico Ribeiro Rodolpho   \n",
              "1       62570000         Benedita Vangésia Alves   \n",
              "2       20080001         Anderson Reis De Vargas   \n",
              "3       62010290    Francisco Sérgio Vasconcelos   \n",
              "4        8780170               Ana Paula Almeida   \n",
              "\n",
              "           EmailResponsavelConcurso               LoginEscola  \\\n",
              "0      carloseurico2011@hotmail.com     COL. ANTARES - PAPICU   \n",
              "1             bvangesia@hotmail.com            ceiam@live.com   \n",
              "2      anderson.vargas.1@cp2.edu.br                 CP2CENTRO   \n",
              "3           olimpiadasclf@gmail.com  PROF. SÉRGIO VASCONCELOS   \n",
              "4  paulinha@colegiostamonica.com.br                     Nanci   \n",
              "\n",
              "   PacoteInscricao StatusInscricao DataCriacaoInscricao Unnamed: 37  \\\n",
              "0                1               2                False  24/01/2023   \n",
              "1                1               2                False  06/02/2023   \n",
              "2                1               2                False  26/02/2023   \n",
              "3                1               2                False  21/12/2022   \n",
              "4                1               2                False  06/02/2023   \n",
              "\n",
              "  Unnamed: 38  BR  \n",
              "0       False  55  \n",
              "1       False  55  \n",
              "2       False  55  \n",
              "3       False  55  \n",
              "4       False  55  \n",
              "\n",
              "[5 rows x 40 columns]"
            ],
            "text/html": [
              "\n",
              "  <div id=\"df-3dd6d1f2-dc77-4d7a-94b1-2d1d21c906de\">\n",
              "    <div class=\"colab-df-container\">\n",
              "      <div>\n",
              "<style scoped>\n",
              "    .dataframe tbody tr th:only-of-type {\n",
              "        vertical-align: middle;\n",
              "    }\n",
              "\n",
              "    .dataframe tbody tr th {\n",
              "        vertical-align: top;\n",
              "    }\n",
              "\n",
              "    .dataframe thead th {\n",
              "        text-align: right;\n",
              "    }\n",
              "</style>\n",
              "<table border=\"1\" class=\"dataframe\">\n",
              "  <thead>\n",
              "    <tr style=\"text-align: right;\">\n",
              "      <th></th>\n",
              "      <th>IDInscricao</th>\n",
              "      <th>IDEscola</th>\n",
              "      <th>TipoEscola</th>\n",
              "      <th>CodigoMEC</th>\n",
              "      <th>Nome</th>\n",
              "      <th>CNPJ</th>\n",
              "      <th>InscricaoEstadual</th>\n",
              "      <th>Endereco</th>\n",
              "      <th>Numero</th>\n",
              "      <th>Complemento</th>\n",
              "      <th>...</th>\n",
              "      <th>CEPResponsavel</th>\n",
              "      <th>NomeResponsavelConcurso</th>\n",
              "      <th>EmailResponsavelConcurso</th>\n",
              "      <th>LoginEscola</th>\n",
              "      <th>PacoteInscricao</th>\n",
              "      <th>StatusInscricao</th>\n",
              "      <th>DataCriacaoInscricao</th>\n",
              "      <th>Unnamed: 37</th>\n",
              "      <th>Unnamed: 38</th>\n",
              "      <th>BR</th>\n",
              "    </tr>\n",
              "  </thead>\n",
              "  <tbody>\n",
              "    <tr>\n",
              "      <th>0</th>\n",
              "      <td>14833</td>\n",
              "      <td>4</td>\n",
              "      <td>2</td>\n",
              "      <td>23245980</td>\n",
              "      <td>Colégio Antares - Papicu</td>\n",
              "      <td>7250616000240</td>\n",
              "      <td>NaN</td>\n",
              "      <td>Rua Prof. Ocelo Pinheiro</td>\n",
              "      <td>101</td>\n",
              "      <td>NaN</td>\n",
              "      <td>...</td>\n",
              "      <td>60181235</td>\n",
              "      <td>Carlos Eurico Ribeiro Rodolpho</td>\n",
              "      <td>carloseurico2011@hotmail.com</td>\n",
              "      <td>COL. ANTARES - PAPICU</td>\n",
              "      <td>1</td>\n",
              "      <td>2</td>\n",
              "      <td>False</td>\n",
              "      <td>24/01/2023</td>\n",
              "      <td>False</td>\n",
              "      <td>55</td>\n",
              "    </tr>\n",
              "    <tr>\n",
              "      <th>1</th>\n",
              "      <td>15411</td>\n",
              "      <td>6</td>\n",
              "      <td>2</td>\n",
              "      <td>23564130</td>\n",
              "      <td>Alegria Do Saber Centro De Educacao Infantil E...</td>\n",
              "      <td>13207350000175</td>\n",
              "      <td>NaN</td>\n",
              "      <td>Rua 7 de Setembro</td>\n",
              "      <td>425</td>\n",
              "      <td>000</td>\n",
              "      <td>...</td>\n",
              "      <td>62570000</td>\n",
              "      <td>Benedita Vangésia Alves</td>\n",
              "      <td>bvangesia@hotmail.com</td>\n",
              "      <td>ceiam@live.com</td>\n",
              "      <td>1</td>\n",
              "      <td>2</td>\n",
              "      <td>False</td>\n",
              "      <td>06/02/2023</td>\n",
              "      <td>False</td>\n",
              "      <td>55</td>\n",
              "    </tr>\n",
              "    <tr>\n",
              "      <th>2</th>\n",
              "      <td>17568</td>\n",
              "      <td>7</td>\n",
              "      <td>1</td>\n",
              "      <td>33062706</td>\n",
              "      <td>Colégio Pedro Ii Campus Centro</td>\n",
              "      <td>42414284000706</td>\n",
              "      <td>NaN</td>\n",
              "      <td>Avenida Marechal Floriano</td>\n",
              "      <td>80</td>\n",
              "      <td>NaN</td>\n",
              "      <td>...</td>\n",
              "      <td>20080001</td>\n",
              "      <td>Anderson Reis De Vargas</td>\n",
              "      <td>anderson.vargas.1@cp2.edu.br</td>\n",
              "      <td>CP2CENTRO</td>\n",
              "      <td>1</td>\n",
              "      <td>2</td>\n",
              "      <td>False</td>\n",
              "      <td>26/02/2023</td>\n",
              "      <td>False</td>\n",
              "      <td>55</td>\n",
              "    </tr>\n",
              "    <tr>\n",
              "      <th>3</th>\n",
              "      <td>14297</td>\n",
              "      <td>8</td>\n",
              "      <td>2</td>\n",
              "      <td>23025255</td>\n",
              "      <td>Colégio Luciano Feijão</td>\n",
              "      <td>9533217000212</td>\n",
              "      <td>NaN</td>\n",
              "      <td>AVENIDA DOM JOSÉ</td>\n",
              "      <td>325</td>\n",
              "      <td>NaN</td>\n",
              "      <td>...</td>\n",
              "      <td>62010290</td>\n",
              "      <td>Francisco Sérgio Vasconcelos</td>\n",
              "      <td>olimpiadasclf@gmail.com</td>\n",
              "      <td>PROF. SÉRGIO VASCONCELOS</td>\n",
              "      <td>1</td>\n",
              "      <td>2</td>\n",
              "      <td>False</td>\n",
              "      <td>21/12/2022</td>\n",
              "      <td>False</td>\n",
              "      <td>55</td>\n",
              "    </tr>\n",
              "    <tr>\n",
              "      <th>4</th>\n",
              "      <td>15363</td>\n",
              "      <td>11</td>\n",
              "      <td>2</td>\n",
              "      <td>35108339</td>\n",
              "      <td>Colégio Santa Mônica</td>\n",
              "      <td>52566411000142</td>\n",
              "      <td>NaN</td>\n",
              "      <td>Rua São João</td>\n",
              "      <td>141</td>\n",
              "      <td>NaN</td>\n",
              "      <td>...</td>\n",
              "      <td>8780170</td>\n",
              "      <td>Ana Paula Almeida</td>\n",
              "      <td>paulinha@colegiostamonica.com.br</td>\n",
              "      <td>Nanci</td>\n",
              "      <td>1</td>\n",
              "      <td>2</td>\n",
              "      <td>False</td>\n",
              "      <td>06/02/2023</td>\n",
              "      <td>False</td>\n",
              "      <td>55</td>\n",
              "    </tr>\n",
              "  </tbody>\n",
              "</table>\n",
              "<p>5 rows × 40 columns</p>\n",
              "</div>\n",
              "      <button class=\"colab-df-convert\" onclick=\"convertToInteractive('df-3dd6d1f2-dc77-4d7a-94b1-2d1d21c906de')\"\n",
              "              title=\"Convert this dataframe to an interactive table.\"\n",
              "              style=\"display:none;\">\n",
              "        \n",
              "  <svg xmlns=\"http://www.w3.org/2000/svg\" height=\"24px\"viewBox=\"0 0 24 24\"\n",
              "       width=\"24px\">\n",
              "    <path d=\"M0 0h24v24H0V0z\" fill=\"none\"/>\n",
              "    <path d=\"M18.56 5.44l.94 2.06.94-2.06 2.06-.94-2.06-.94-.94-2.06-.94 2.06-2.06.94zm-11 1L8.5 8.5l.94-2.06 2.06-.94-2.06-.94L8.5 2.5l-.94 2.06-2.06.94zm10 10l.94 2.06.94-2.06 2.06-.94-2.06-.94-.94-2.06-.94 2.06-2.06.94z\"/><path d=\"M17.41 7.96l-1.37-1.37c-.4-.4-.92-.59-1.43-.59-.52 0-1.04.2-1.43.59L10.3 9.45l-7.72 7.72c-.78.78-.78 2.05 0 2.83L4 21.41c.39.39.9.59 1.41.59.51 0 1.02-.2 1.41-.59l7.78-7.78 2.81-2.81c.8-.78.8-2.07 0-2.86zM5.41 20L4 18.59l7.72-7.72 1.47 1.35L5.41 20z\"/>\n",
              "  </svg>\n",
              "      </button>\n",
              "      \n",
              "  <style>\n",
              "    .colab-df-container {\n",
              "      display:flex;\n",
              "      flex-wrap:wrap;\n",
              "      gap: 12px;\n",
              "    }\n",
              "\n",
              "    .colab-df-convert {\n",
              "      background-color: #E8F0FE;\n",
              "      border: none;\n",
              "      border-radius: 50%;\n",
              "      cursor: pointer;\n",
              "      display: none;\n",
              "      fill: #1967D2;\n",
              "      height: 32px;\n",
              "      padding: 0 0 0 0;\n",
              "      width: 32px;\n",
              "    }\n",
              "\n",
              "    .colab-df-convert:hover {\n",
              "      background-color: #E2EBFA;\n",
              "      box-shadow: 0px 1px 2px rgba(60, 64, 67, 0.3), 0px 1px 3px 1px rgba(60, 64, 67, 0.15);\n",
              "      fill: #174EA6;\n",
              "    }\n",
              "\n",
              "    [theme=dark] .colab-df-convert {\n",
              "      background-color: #3B4455;\n",
              "      fill: #D2E3FC;\n",
              "    }\n",
              "\n",
              "    [theme=dark] .colab-df-convert:hover {\n",
              "      background-color: #434B5C;\n",
              "      box-shadow: 0px 1px 3px 1px rgba(0, 0, 0, 0.15);\n",
              "      filter: drop-shadow(0px 1px 2px rgba(0, 0, 0, 0.3));\n",
              "      fill: #FFFFFF;\n",
              "    }\n",
              "  </style>\n",
              "\n",
              "      <script>\n",
              "        const buttonEl =\n",
              "          document.querySelector('#df-3dd6d1f2-dc77-4d7a-94b1-2d1d21c906de button.colab-df-convert');\n",
              "        buttonEl.style.display =\n",
              "          google.colab.kernel.accessAllowed ? 'block' : 'none';\n",
              "\n",
              "        async function convertToInteractive(key) {\n",
              "          const element = document.querySelector('#df-3dd6d1f2-dc77-4d7a-94b1-2d1d21c906de');\n",
              "          const dataTable =\n",
              "            await google.colab.kernel.invokeFunction('convertToInteractive',\n",
              "                                                     [key], {});\n",
              "          if (!dataTable) return;\n",
              "\n",
              "          const docLinkHtml = 'Like what you see? Visit the ' +\n",
              "            '<a target=\"_blank\" href=https://colab.research.google.com/notebooks/data_table.ipynb>data table notebook</a>'\n",
              "            + ' to learn more about interactive tables.';\n",
              "          element.innerHTML = '';\n",
              "          dataTable['output_type'] = 'display_data';\n",
              "          await google.colab.output.renderOutput(dataTable, element);\n",
              "          const docLink = document.createElement('div');\n",
              "          docLink.innerHTML = docLinkHtml;\n",
              "          element.appendChild(docLink);\n",
              "        }\n",
              "      </script>\n",
              "    </div>\n",
              "  </div>\n",
              "  "
            ]
          },
          "metadata": {},
          "execution_count": 29
        }
      ]
    },
    {
      "cell_type": "code",
      "source": [
        "series.to_excel('/content/drive/MyDrive/ArquivosColab/2023_atualizado.xlsx', index=False)"
      ],
      "metadata": {
        "id": "t0HBUFdHQVGR"
      },
      "execution_count": null,
      "outputs": []
    }
  ]
}